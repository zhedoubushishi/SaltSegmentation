{
  "cells": [
    {
      "metadata": {
        "_uuid": "54643e32b4132d15df20d55f2b9ee09efc2c51a8"
      },
      "cell_type": "markdown",
      "source": "# Libraries"
    },
    {
      "metadata": {
        "_uuid": "b15761a022f76bb50db1bb55c21b59a3f1c88261",
        "trusted": true
      },
      "cell_type": "code",
      "source": "import os\nimport sys\nimport random\n\nimport pandas as pd\nimport numpy as np\nimport matplotlib.pyplot as plt\nplt.style.use('seaborn-white')\nimport seaborn as sns\nsns.set_style(\"white\")\n\nimport shutil\n\n%matplotlib inline\n\n# import cv2\nfrom sklearn.model_selection import train_test_split\n\nfrom scipy import ndimage\n\nfrom tqdm import tqdm_notebook #, tnrange\n#from itertools import chain\nfrom skimage.io import imread, imshow #, concatenate_images\nfrom skimage.transform import resize\nfrom skimage.morphology import label\nfrom skimage import filters\n\nfrom imgaug import augmenters as iaa\n\nfrom tqdm import tqdm\nfrom pathlib import Path\n\nimport cv2\nfrom sklearn.model_selection import StratifiedKFold\nimport torch\nfrom torch import nn\nfrom torch import Tensor\nfrom torch.optim import Adam, SGD\nfrom torch.optim.lr_scheduler import ReduceLROnPlateau\nfrom torch.utils.data import DataLoader, Dataset\nimport torch.backends.cudnn as cudnn\nimport torch.backends.cudnn\nfrom torch.autograd import Variable\nfrom torch.nn import functional as F\nfrom torchvision.transforms import ToTensor, ToPILImage, Normalize, Compose\n\nimport PIL\n\nfrom datetime import datetime\nimport json\nimport gc\n\nimport time\n#t_start = time.time()",
      "execution_count": 1,
      "outputs": []
    },
    {
      "metadata": {
        "_uuid": "99e7207d6aec7d921e4b8ad4f30d310d2346216a"
      },
      "cell_type": "markdown",
      "source": "# Global variable"
    },
    {
      "metadata": {
        "_uuid": "73cc76d8506e96b912600406fa5ceeb47083978a",
        "trusted": true
      },
      "cell_type": "code",
      "source": "TRAIN_IMG_PATH = \"../input/train/images/\"\nTEST_IMG_PATH = \"../input/test/images/\"\nDEPTH_PATH = \"../input/depths.csv\"\nTRAIN_MASK_PATH = \"../input/train/masks/\"\nTRAIN_INFO_PATH = \"../input/train.csv\"\n\n# basic parameters\nIMG_ORI_SIZE = 101\nIMG_TAR_SIZE = 128\nSCALE = 1\n\n# Model parameters\nSTART_NEURONS = 16\nDROPOUT_RATIO = 0.5\n\nINPUT_CHANNEL = 3\n\nMODEL1_ADAM_LR = 0.01\nMODEL1_EPOCHS = 100\nMODEL1_BATCH_SIZE = 64\nMODEL1_STEPS_PER_EPOCH_TRAIN = 200\nMODEL1_LOSS = 'binary_crossentropy'\n\nMODEL2_ADAM_LR = 0.01\nMODEL2_EPOCHS = 100\nMODEL2_BATCH_SIZE = 64\nMODEL2_STEPS_PER_EPOCH_TRAIN = 200\nMODEL2_LOSS = 'lovasz_loss'\n\n# ReduceLROnPlateau parameters\nMODEL1_REDUCE_FACTOR = 0.5\nMODEL1_REDUCE_PATIENT = 5\n\nMODEL2_REDUCE_FACTOR = 0.5\nMODEL2_REDUCE_PATIENT = 5\n\n# DICE_BCE_LOSS Parameters\nBCE_WEIGHT = 1\nDICE_WEIGHT = 0\n\n# Augmentation Parmeters\nAUG = True\nFIT_METHOD = 'resize_pad'\nPAD_METHOD = 'edge'\n\ndevice = torch.device(\"cuda:0\" if torch.cuda.is_available() else \"cpu\")",
      "execution_count": 2,
      "outputs": []
    },
    {
      "metadata": {
        "_uuid": "aa113e7f4cabb11b9a14afc2151e96ff664ef7ed",
        "trusted": true
      },
      "cell_type": "code",
      "source": "# encoding=utf8\nimport cv2\nimport numpy as np\nfrom torch import nn\nfrom functools import reduce\n\n################################################################################\n# related functions & loss functions\n################################################################################\n\n\ndef upsample(img):\n    if IMG_ORI_SIZE == IMG_TAR_SIZE:\n        return img\n    return cv2.resize(img, (IMG_TAR_SIZE, IMG_TAR_SIZE))\n\n\ndef downsample(img):\n    if IMG_ORI_SIZE == IMG_TAR_SIZE:\n        return img\n    return cv2.resize(img, (IMG_ORI_SIZE, IMG_ORI_SIZE))\n\n\ndef add_depth_channels(image_array, depth):\n    image_array[:,:,1] = depth\n    image_array[:,:,2] = image_array[:,:,0] * image_array[:,:,1]\n    return image_array\n\n\nclass MyEncoder(json.JSONEncoder):\n    def default(self, obj):\n        if isinstance(obj, np.integer):\n            return int(obj)\n        elif isinstance(obj, np.floating):\n            return float(obj)\n        elif isinstance(obj, np.ndarray):\n            return obj.tolist()\n        else:\n            return super(MyEncoder, self).default(obj)\n\n        \ndef write_event(log, step: int, **data):\n    data['step'] = step\n    data['dt'] = datetime.now().isoformat()\n    log.write(json.dumps(data, sort_keys=True, cls=MyEncoder))\n    log.write('\\n')\n    log.flush()\n\n    \ndef get_variable(x):\n    \"\"\" Converts tensors to cuda, if available. \"\"\"\n    if torch.cuda.is_available():\n        return x.cuda()\n    return x\n\n\ndef get_numpy(x):\n    \"\"\" Get numpy array for both cuda and not. \"\"\"\n    if torch.cuda.is_available():\n        return x.cpu().data.numpy()\n    return x.data.numpy()\n  \n    \ndef iou_numpy(outputs, labels):\n    SMOOTH = 1e-6\n    labels = labels.squeeze(1)\n    outputs = outputs.squeeze(1)\n    \n    intersection = (outputs & labels).sum((1, 2))\n    union = (outputs | labels).sum((1, 2))\n    \n    iou = (intersection + SMOOTH) / (union + SMOOTH)\n    \n    thresholded = np.ceil(np.clip(20 * (iou - 0.5), 0, 10)) / 10\n    \n    return thresholded.mean()\n\n\ndef my_iou_metric(label, pred):\n    return iou_numpy(pred > 0.5, label>0.5)\n\n\ndef my_iou_metric_2(label, pred):\n    return iou_numpy(pred > 0, label>0.5)\n\n\ndef my_iou_metric_pad(label, pred):\n    pad_size = (IMG_TAR_SIZE-SCALE*IMG_ORI_SIZE)//2\n    return iou_numpy(pred[:,:,pad_size:-pad_size-1,pad_size+1:-pad_size]>0.5,label[:,:,pad_size:-pad_size-1,pad_size+1:-pad_size]>0.5)\n\n    \ndef save_checkpoint(state, is_best, fold=0):\n    filename = f'checkpoint_fold{fold}.pth.tar'\n    torch.save(state, filename)\n    if is_best:\n        shutil.copyfile(filename, f'model_best_fold{fold}.pth.tar')\n        \n\nclass EarlyStopping(object):\n    def __init__(self, mode='min', min_delta=0, patience=10):\n        self.mode = mode\n        self.min_delta = min_delta\n        self.patience = patience\n        self.best = None\n        self.num_bad_epochs = 0\n        self.is_better = None\n        self._init_is_better(mode, min_delta)\n\n        if patience == 0:\n            self.is_better = lambda a, b: True\n\n    def step(self, metrics):\n        if self.best is None:\n            self.best = metrics\n            return False\n\n        if np.isnan(metrics):\n            return True\n\n        if self.is_better(metrics, self.best):\n            self.num_bad_epochs = 0\n            self.best = metrics\n        else:\n            self.num_bad_epochs += 1\n\n        if self.num_bad_epochs >= self.patience:\n            return True\n\n        return False\n\n    def _init_is_better(self, mode, min_delta):\n        if mode not in {'min', 'max'}:\n            raise ValueError('mode ' + mode + ' is unknown!')\n        if mode == 'min':\n            self.is_better = lambda a, best: a < best - min_delta\n        if mode == 'max':\n            self.is_better = lambda a, best: a > best + min_delta\n",
      "execution_count": 3,
      "outputs": []
    },
    {
      "metadata": {
        "_uuid": "951cbf65518e980d4d9cc3595458a9b366374f58",
        "trusted": true
      },
      "cell_type": "code",
      "source": "class DiceLoss(nn.Module):\n    def __init__(self, smooth=0, eps=1e-7):\n        super(DiceLoss, self).__init__()\n        self.smooth = smooth\n        self.eps = eps\n\n    def forward(self, output, target):\n        return 1 - (2 * torch.sum(output * target) + self.smooth) / (\n            torch.sum(output) + torch.sum(target) + self.smooth + self.eps)\n\n\nclass Dice_Bce_Loss(nn.Module):\n    def __init__(self, smooth=0, eps=1e-7, dice_weight=0.2, \n                 dice_loss=None, bce_weight=0.9, bce_loss=None):\n        super(Dice_Bce_Loss, self).__init__()\n        self.smooth = smooth\n        self.eps = eps\n        self.dice_weight = dice_weight\n        self.bce_weight = bce_weight\n        self.bce_loss = bce_loss\n        self.dice_loss = dice_loss\n        \n        if self.bce_loss is None:\n            self.bce_loss = nn.BCELoss()\n        if self.dice_loss is None:\n            self.dice_loss = DiceLoss(smooth, eps)\n            \n    def forward(self, output, target):\n        return self.dice_weight * self.dice_loss(output, target) + self.bce_weight * self.bce_loss(output, target)\n\n\nclass FocalLoss(nn.Module):\n    def __init__(self, alpha=0.5, gamma=2, logits=False, reduce=True):\n        super(FocalLoss, self).__init__()\n        self.alpha = alpha\n        self.gamma = gamma\n        self.logits = logits\n        self.reduce = reduce\n\n    def forward(self, inputs, targets):\n        if self.logits:\n            BCE_loss = F.binary_cross_entropy_with_logits(inputs, targets, reduction='none')\n        else:\n            BCE_loss = F.binary_cross_entropy(inputs, targets, reduction='none')\n        pt = torch.exp(-BCE_loss)\n        F_loss = self.alpha * (1-pt)**self.gamma * BCE_loss\n\n        if self.reduce:\n            return torch.mean(F_loss)\n        else:\n            return F_loss",
      "execution_count": 4,
      "outputs": []
    },
    {
      "metadata": {
        "_uuid": "f6879d5d3bbb6c70fd2c25908083b690e59c13a8",
        "trusted": true
      },
      "cell_type": "code",
      "source": "import imgaug as ia\nfrom imgaug import augmenters as iaa\nimport numpy as np\n\nia.seed(2018)\n\ndef _standardize(img):\n    return (img - img.map(np.mean)) / img.map(np.std)\n\naffine_seq = iaa.Sequential([\n    # General\n    iaa.Affine(rotate=(-5, 5),\n               translate_percent={\"x\": (-0.05, 0.05)},\n               mode='edge'),\n    # Deformations\n    iaa.Sometimes(0.3, iaa.PiecewiseAffine(scale=(0.04, 0.08))),\n    iaa.Sometimes(0.3, iaa.PerspectiveTransform(scale=(0.05, 0.1))),\n], random_order=True)\n\nintensity_seq = iaa.Sequential([\n    iaa.Invert(0.3),\n    iaa.Sometimes(0.3, iaa.ContrastNormalization((0.5, 1.5))),\n    iaa.OneOf([\n        iaa.Noop(),\n        iaa.Sequential([\n            iaa.OneOf([\n                iaa.Add((-10, 10)),\n                iaa.AddElementwise((-10, 10)),\n                iaa.Multiply((0.95, 1.05)),\n                iaa.MultiplyElementwise((0.95, 1.05)),\n            ]),\n        ]),\n        iaa.OneOf([\n            iaa.GaussianBlur(sigma=(0.0, 1.0)),\n            iaa.AverageBlur(k=(2, 5)),\n            #iaa.MedianBlur(k=(3, 5))\n        ])\n    ])\n], random_order=False)\n\ntta_intensity_seq = iaa.Sequential([\n    iaa.Noop()\n], random_order=False)\n\ndef resize_pad_seq(pad_method, pad_size):\n    seq = iaa.Sequential([\n        affine_seq,\n        iaa.Scale({'height': IMG_ORI_SIZE*SCALE, 'width': IMG_ORI_SIZE*SCALE}),\n        iaa.Pad(px=(pad_size, pad_size, pad_size+1, pad_size+1), pad_mode=pad_method, keep_size=False)\n    ], random_order=False)\n    return seq\n\ndef resize_pad_seq_eval(pad_method, pad_size):\n    seq = iaa.Sequential([\n        iaa.Scale({'height': IMG_ORI_SIZE*SCALE, 'width': IMG_ORI_SIZE*SCALE}),\n        iaa.Pad(px=(pad_size, pad_size, pad_size+1, pad_size+1), pad_mode=pad_method, keep_size=False)\n    ], random_order=False)\n    return seq\n\ndef resize_seq():\n    seq = iaa.Sequential([\n        affine_seq,\n        iaa.Scale({'height': IMG_TAR_SIZE, 'width': IMG_TAR_SIZE})\n    ], random_order=False)\n    return seq\n\ndef resize_seq_eval():\n    seq = iaa.Sequential([\n        iaa.Scale({'height': IMG_TAR_SIZE, 'width': IMG_TAR_SIZE})\n    ], random_order=False)\n    return seq",
      "execution_count": 5,
      "outputs": []
    },
    {
      "metadata": {
        "_uuid": "8cbfed0014f8791e5d308d3cb6107c45866bef6b",
        "trusted": true
      },
      "cell_type": "code",
      "source": "# encoding=utf8\nimport numpy as np\nimport pandas as pd\nfrom functools import partial\nimport cv2\nfrom tqdm import tqdm_notebook\nfrom sklearn.model_selection import train_test_split\nfrom sklearn.model_selection import StratifiedKFold\nimport torch\nfrom torch import nn\nfrom torch.optim import Adam\nfrom torch.utils.data import DataLoader, Dataset\nimport torch.backends.cudnn as cudnn\nimport torch.backends.cudnn\nfrom torch.autograd import Variable\nfrom torch.nn import functional as F\nfrom torchvision.transforms import ToTensor, Normalize, Compose\n\n## convert salt coverage to class\ndef _cov_to_class(mask):\n    border = 10\n    outer = np.zeros((101-2*border, 101-2*border), np.float32)\n    outer = cv2.copyMakeBorder(outer, border, border, border, border, borderType = cv2.BORDER_CONSTANT, value = 1)\n\n    cover = (mask>0.5).sum()\n    if cover < 8:\n        return 0 # empty\n    if cover == ((mask*outer) > 0.5).sum():\n        return 1 #border\n    if np.all(mask==mask[0]):\n        return 2 #vertical\n\n    percentage = cover/(101*101)\n    if percentage < 0.15:\n        return 3\n    elif percentage < 0.25:\n        return 4\n    elif percentage < 0.50:\n        return 5\n    elif percentage < 0.75:\n        return 6\n    else:\n        return 7\n\n## used to load data from data files\nclass my_DataLoader:\n\n    def __init__(self, train=False, test=False, Kfold=False, test_size=0.2):\n        self.test = test\n        self.train = train\n        self.Kfold = Kfold\n        self.test_size = test_size\n        self.num_fold = int(1/test_size)\n            \n        train_df, self.test_df = self._load_depth()\n        \n        if self.train:\n            self._load_image_mask(train_df)\n            train_df[\"coverage\"] = train_df.masks.map(np.sum) / pow(IMG_ORI_SIZE, 2)\n            train_df[\"coverage_class\"] = train_df.masks.map(_cov_to_class)\n            self.x_train, self.x_valid, self.y_train, self.y_valid = self._get_train_test_split(train_df, self.Kfold, self.num_fold)\n            \n        if self.test:\n            test_df['images'] = self._load_image_test(self.test_df)\n            self.x_test = np.array(self.test_df.images.tolist()).reshape(-1, IMG_ORI_SIZE, IMG_ORI_SIZE, 1)\n\n    @staticmethod\n    def _load_image_mask(train_df):\n        # load image data & mask data\n        train_df['images'] = [np.array(cv2.imread(TRAIN_IMG_PATH + \"{}.png\".format(idx), 0)) for idx in tqdm_notebook(train_df.index)]\n        train_df['masks'] = [np.array(cv2.imread(TRAIN_MASK_PATH + \"{}.png\".format(idx), 0)) for idx in tqdm_notebook(train_df.index)]\n        # Normalize image vectors\n        #train_df['images'] /= 255\n        #train_df['masks'] /= 255\n        \n    @staticmethod\n    def _load_image_test(test_df):\n        return [np.array(cv2.imread(TEST_IMG_PATH + \"{}.png\".format(idx), 0)) for idx in tqdm_notebook(test_df.index)]\n\n    @staticmethod\n    def _load_depth():\n        train_df = pd.read_csv(TRAIN_INFO_PATH, index_col=\"id\", usecols=[0])\n        depths_df = pd.read_csv(DEPTH_PATH, index_col=\"id\")\n        depths_df['z'] = depths_df['z'].astype('float')\n        train_df = train_df.join(depths_df)\n        test_df = depths_df[~depths_df.index.isin(train_df.index)]\n        return train_df, test_df\n\n    ## get train & validation split stratified by salt coverage\n    @staticmethod\n    def _get_train_test_split(train_df, Kfold, num_fold):\n        x_train, x_valid, y_train, y_valid = [], [], [], []\n        skf = StratifiedKFold(n_splits=num_fold, random_state=1234, shuffle=True)\n        for train_index, valid_index in skf.split(train_df.index.values, train_df.coverage_class):\n            x_train.append(np.array(train_df.images[train_index].tolist()).reshape(-1, IMG_ORI_SIZE, IMG_ORI_SIZE, 1))\n            x_valid.append(np.array(train_df.images[valid_index].tolist()).reshape(-1, IMG_ORI_SIZE, IMG_ORI_SIZE, 1))\n            y_train.append(np.array(train_df.masks[train_index].tolist()).reshape(-1, IMG_ORI_SIZE, IMG_ORI_SIZE, 1))\n            y_valid.append(np.array(train_df.masks[valid_index].tolist()).reshape(-1, IMG_ORI_SIZE, IMG_ORI_SIZE, 1))\n            if not Kfold:\n                break\n        return x_train, x_valid, y_train, y_valid\n\n    def get_train(self):\n        return self.x_train, self.y_train\n    \n    def get_valid(self):\n        return self.x_valid, self.y_valid\n\n    def get_test_x(self):\n        return self.x_test\n\n    def get_test_df(self):\n        return self.test_df\n    \nclass ShipDataset(Dataset):\n    def __init__(self, data, transform=None, mode='train'):\n        if mode == 'train' or mode == 'valid':\n            self.x = data[0]\n            self.y = data[1]\n        elif mode == 'test':\n            self.data = data\n        else:\n            raise RuntimeError('MODE_ERROR')\n        self.transform = transform\n        self.mode = mode\n        self.pad_method = PAD_METHOD\n        self.pad_size = (IMG_TAR_SIZE-IMG_ORI_SIZE)//2\n        \n        if FIT_METHOD == 'resize_pad':\n            self.aug_func_eval = partial(resize_pad_seq_eval, self.pad_method, self.pad_size)\n        elif FIT_METHOD == 'resize':\n            self.aug_func_eval = resize_seq_eval\n            \n        if AUG:\n            if FIT_METHOD == 'resize_pad':\n                self.aug_func = partial(resize_pad_seq, self.pad_method, self.pad_size)\n            elif FIT_METHOD == 'resize':\n                self.aug_func = resize_seq\n        \n        if INPUT_CHANNEL == 3:\n            self.depth = np.tile(np.linspace(0,1,IMG_TAR_SIZE),[IMG_TAR_SIZE,1]).T\n\n    def __len__(self):\n        if self.mode == 'train' or self.mode == 'valid':\n            return len(self.x)\n        elif self.mode == 'test':\n            return len(self.data)\n        else:\n            raise RuntimeError('MODE_ERROR')\n               \n    def __getitem__(self, idx):\n        if self.mode == 'train':\n            if AUG:\n                resize_seq_det = self.aug_func().to_deterministic()\n                new_x_batch = resize_seq_det.augment_image(self.x[idx])\n                new_x_batch = intensity_seq.augment_image(new_x_batch)/255\n                new_y_batch = resize_seq_det.augment_image(self.y[idx])/255\n            else:\n                resize_seq_det = self.aug_func_eval().to_deterministic()\n                new_x_batch = resize_seq_det.augment_image(self.x[idx])/255\n                new_y_batch = resize_seq_det.augment_image(self.y[idx])/255\n            if INPUT_CHANNEL == 3:\n                new_x_batch = np.tile(new_x_batch,(1,1,3))\n                new_x_batch = add_depth_channels(new_x_batch, self.depth)\n            return torch.from_numpy(new_x_batch), torch.from_numpy(new_y_batch)\n        elif self.mode == 'valid':\n            resize_seq_det = self.aug_func_eval().to_deterministic()\n            new_x_batch = resize_seq_det.augment_image(self.x[idx])/255\n            new_y_batch = resize_seq_det.augment_image(self.y[idx])/255\n            if INPUT_CHANNEL == 3:\n                new_x_batch = np.tile(new_x_batch,(1,1,3))\n                new_x_batch = add_depth_channels(new_x_batch, self.depth)\n            return torch.from_numpy(new_x_batch), torch.from_numpy(new_y_batch)\n        elif self.mode == 'test':\n            resize_seq_det = self.aug_func_eval()\n            test_data = resize_seq_det.augment_image(self.data[idx])/255\n            if INPUT_CHANNEL == 3:\n                test_data = np.tile(test_data,(1,1,3))\n                new_x_batch = add_depth_channels(test_data, self.depth)\n            return torch.from_numpy(test_data)\n        else:\n            raise RuntimeError('MODE_ERROR')\n            \ndef make_loader(data, batch_size, num_workers=4, shuffle=False, transform=None, mode='train'):\n        return DataLoader(\n            dataset=ShipDataset(data, transform=transform, mode=mode),\n            shuffle=shuffle,\n            num_workers = num_workers,\n            batch_size = batch_size,\n            pin_memory=torch.cuda.is_available()\n        )",
      "execution_count": 6,
      "outputs": []
    },
    {
      "metadata": {
        "_uuid": "47a024a662f85e6cbe936b1bce96d1c471533ddc",
        "trusted": true
      },
      "cell_type": "code",
      "source": "dl = my_DataLoader(train=True, Kfold=True)\nx_train, y_train = dl.get_train()\nx_valid, y_valid = dl.get_valid()\n\n#Data augmentation\n#x_train = np.append(x_train, [np.fliplr(x) for x in x_train], axis=0)\n#y_train = np.append(y_train, [np.fliplr(x) for x in y_train], axis=0)",
      "execution_count": 7,
      "outputs": [
        {
          "output_type": "display_data",
          "data": {
            "text/plain": "HBox(children=(IntProgress(value=0, max=4000), HTML(value='')))",
            "application/vnd.jupyter.widget-view+json": {
              "version_major": 2,
              "version_minor": 0,
              "model_id": "7a006869746549e3954e3c353a3404e6"
            }
          },
          "metadata": {}
        },
        {
          "output_type": "stream",
          "text": "\n",
          "name": "stdout"
        },
        {
          "output_type": "display_data",
          "data": {
            "text/plain": "HBox(children=(IntProgress(value=0, max=4000), HTML(value='')))",
            "application/vnd.jupyter.widget-view+json": {
              "version_major": 2,
              "version_minor": 0,
              "model_id": "10a564fc78ae4d25922769bdab029038"
            }
          },
          "metadata": {}
        },
        {
          "output_type": "stream",
          "text": "\n",
          "name": "stdout"
        }
      ]
    },
    {
      "metadata": {
        "_uuid": "dc7cb553fc8640deee4f67f53d19128da1e5737b",
        "trusted": true
      },
      "cell_type": "code",
      "source": "from torch import nn\nfrom torch.nn import functional as F\nimport torch\nfrom torchvision import models\nimport torchvision\n\n\"\"\"\nThis script has been taken (and modified) from :\nhttps://github.com/ternaus/TernausNet\n@ARTICLE{arXiv:1801.05746,\n         author = {V. Iglovikov and A. Shvets},\n          title = {TernausNet: U-Net with VGG11 Encoder Pre-Trained on ImageNet for Image Segmentation},\n        journal = {ArXiv e-prints},\n         eprint = {1801.05746}, \n           year = 2018\n        }\n\"\"\"\n\n\nclass ConvBnRelu(nn.Module):\n    def __init__(self, in_channels, out_channels):\n        super().__init__()\n        self.conv = nn.Sequential(nn.Conv2d(in_channels, out_channels, 3, padding=1),\n                                  nn.BatchNorm2d(out_channels),\n                                  nn.ReLU(inplace=True)\n                                  )\n\n    def forward(self, x):\n        return self.conv(x)\n\n\nclass NoOperation(nn.Module):\n    def forward(self, x):\n        return x\n\n\nclass DecoderBlockV2(nn.Module):\n    def __init__(self, in_channels, middle_channels, out_channels, is_deconv=True):\n        super(DecoderBlockV2, self).__init__()\n        self.is_deconv = is_deconv\n\n        self.deconv = nn.Sequential(\n            ConvBnRelu(in_channels, middle_channels),\n            nn.ConvTranspose2d(middle_channels, out_channels, kernel_size=4, stride=2, padding=1),\n            nn.BatchNorm2d(out_channels),\n            nn.ReLU(inplace=True),\n        )\n\n        self.conv = ConvBnRelu(in_channels, out_channels)\n\n    def forward(self, x):\n        if self.is_deconv:\n            x = self.deconv(x)\n        else:\n            x = self.conv(x)\n            x = F.interpolate(x, scale_factor=2, mode='bilinear', align_corners=False)\n        return x\n\n\nclass UNetResNet(nn.Module):\n\n    def __init__(self, encoder_depth, num_classes, num_filters=32, dropout_2d=0.2,\n                 pretrained=False, is_deconv=False):\n        super().__init__()\n        self.num_classes = num_classes\n        self.dropout_2d = dropout_2d\n\n        if encoder_depth == 34:\n            self.encoder = torchvision.models.resnet34(pretrained=pretrained)\n            bottom_channel_nr = 512\n        elif encoder_depth == 101:\n            self.encoder = torchvision.models.resnet101(pretrained=pretrained)\n            bottom_channel_nr = 2048\n        elif encoder_depth == 152:\n            self.encoder = torchvision.models.resnet152(pretrained=pretrained)\n            bottom_channel_nr = 2048\n        else:\n            raise NotImplementedError('only 34, 101, 152 version of Resnet are implemented')\n\n        self.pool = nn.MaxPool2d(2, 2)\n\n        self.relu = nn.ReLU(inplace=True)\n\n        self.input_adjust = nn.Sequential(self.encoder.conv1,\n                                          self.encoder.bn1,\n                                          self.encoder.relu)\n\n        self.conv1 = self.encoder.layer1\n        self.conv2 = self.encoder.layer2\n        self.conv3 = self.encoder.layer3\n        self.conv4 = self.encoder.layer4\n\n        self.dec4 = DecoderBlockV2(bottom_channel_nr, num_filters * 8 * 2, num_filters * 8, is_deconv)\n        self.dec3 = DecoderBlockV2(bottom_channel_nr // 2 + num_filters * 8, num_filters * 8 * 2, num_filters * 8,\n                                   is_deconv)\n        self.dec2 = DecoderBlockV2(bottom_channel_nr // 4 + num_filters * 8, num_filters * 4 * 2, num_filters * 2,\n                                   is_deconv)\n        self.dec1 = DecoderBlockV2(bottom_channel_nr // 8 + num_filters * 2, num_filters * 2 * 2, num_filters * 2 * 2,\n                                   is_deconv)\n        self.final = nn.Conv2d(num_filters * 2 * 2, num_classes, kernel_size=1)\n\n    def forward(self, x):\n        input_adjust = self.input_adjust(x)\n        conv1 = self.conv1(input_adjust)\n        conv2 = self.conv2(conv1)\n        conv3 = self.conv3(conv2)\n        center = self.conv4(conv3)\n        dec4 = self.dec4(center)\n        dec3 = self.dec3(torch.cat([dec4, conv3], 1))\n        dec2 = self.dec2(torch.cat([dec3, conv2], 1))\n        dec1 = F.dropout2d(self.dec1(torch.cat([dec2, conv1], 1)), p=self.dropout_2d)\n        return self.final(dec1)",
      "execution_count": 8,
      "outputs": []
    },
    {
      "metadata": {
        "_uuid": "2dcfe44283aa19b30ca4c79883149441d50471db",
        "trusted": true
      },
      "cell_type": "code",
      "source": "def validation(model: nn.Module, criterion, valid_loader):\n    model.eval()\n    losses = []\n    iou = []\n    with torch.no_grad():\n        for inputs, targets in valid_loader:\n            inputs = inputs.permute(0,3,1,2).to(device)\n            targets = targets.permute(0,3,1,2).to(device)\n            outputs = torch.sigmoid(model(inputs))\n            loss = criterion(outputs, targets)\n            losses += [loss.item()]\n            iou += [my_iou_metric_pad(get_numpy(targets), get_numpy(outputs))]\n\n        valid_loss = np.mean(losses)  # type: float\n\n        valid_iou = np.mean(iou)\n\n        metrics = {'val_loss': valid_loss, 'val_iou': valid_iou}\n    return metrics\n\ndef train(model, criterion, train_loader, optimizer, epoch, scheduler,\n          report_each=10, valid_iou=0, fold=None):\n        model.train()\n        random.seed()\n        scheduler.step(valid_iou)\n        losses = []\n        ious = []\n        tl = train_loader\n        \n        try:\n            mean_loss = 0\n            mean_iou = 0\n            for i, (inputs, targets) in enumerate(tl):\n                inputs = inputs.permute(0,3,1,2).to(device)\n                targets = targets.permute(0,3,1,2).to(device)\n                outputs = torch.sigmoid(model(inputs))\n                loss = criterion(outputs, targets)\n                optimizer.zero_grad()\n                batch_size = inputs.size(0)\n                loss.backward()\n                optimizer.step()\n                losses += [loss.item()]\n                ious += [my_iou_metric_pad(get_numpy(targets), get_numpy(outputs))]\n                mean_loss = np.mean(losses[-report_each:])\n                mean_iou = np.mean(ious[-report_each:])\n\n                if i % report_each == 0:\n                    print('Epoch: [{0}][{1}/{2}]\\t'\n                          'Loss {loss:.4f} ({loss_avg:.4f})\\t'\n                          'IOU {iou:.3f} ({iou_avg:.3f})'.format(\n                           epoch, i, len(tl), loss=losses[-1], loss_avg=mean_loss, iou=ious[-1], iou_avg=mean_iou))\n\n            metrics = {'train_loss': mean_loss, 'train_iou': mean_iou}\n            return metrics\n        \n        except KeyboardInterrupt:\n            print('Ctrl+C, saving snapshot')\n            print('done.')\n            return",
      "execution_count": 9,
      "outputs": []
    },
    {
      "metadata": {
        "_uuid": "86d24a38b6c190350197c5b359b9c755ad7b83b1",
        "trusted": true
      },
      "cell_type": "code",
      "source": "import torch.optim as optim\n\ncriterion = FocalLoss(alpha = 0.25)\ncriterion = criterion.to(device)    \nearly_stop = EarlyStopping(mode='max', min_delta=0, patience=10)",
      "execution_count": 10,
      "outputs": []
    },
    {
      "metadata": {
        "_uuid": "bbc578c9bfb6b93b501b74b721a456c0a60ef0f0",
        "trusted": true
      },
      "cell_type": "code",
      "source": "fold = 0\nfor x_train_f, y_train_f, x_valid_f, y_valid_f in zip(x_train, y_train, x_valid, y_valid):\n    train_loader = make_loader((x_train_f, y_train_f), num_workers=0, batch_size=16, shuffle=True)\n    valid_loader = make_loader((x_valid_f, y_valid_f), num_workers=0, batch_size=64, mode='valid')\n\n    res_unet = UNetResNet(34, 1, num_filters=16, dropout_2d=0.5, pretrained=True, is_deconv=False).double()\n    best_iou = 0\n\n    res_unet = res_unet.to(device)\n    criterion = criterion.to(device)\n\n    early_stop = EarlyStopping(mode='max', min_delta=0, patience=10)\n    optimizer= Adam(res_unet.parameters(), lr=0.01)\n\n    scheduler = ReduceLROnPlateau(optimizer, mode='max', verbose=True, patience=3, factor=0.5, min_lr=0.0001)\n    #model = nn.DataParallel(model, device_ids=None)\n\n    n_epochs = 20\n    start_epoch = 0\n    report_each = 10\n    valid_losses = []\n    valid_ious = []\n    train_losses = []\n    train_ious = []\n    valid_iou = 0\n    valid_loss = 0\n    print('Fold: [{0}]\\t'.format(fold))\n    for epoch in range(start_epoch, n_epochs + 1):\n        train_metrics = train(res_unet, criterion, train_loader, optimizer, \n                              epoch, scheduler, report_each, valid_iou)\n        valid_metrics = validation(res_unet, criterion, valid_loader)\n\n        train_loss = train_metrics['train_loss']\n        train_iou = train_metrics['train_iou']\n        train_losses += [train_loss]\n        train_ious += [train_iou]\n        valid_loss = valid_metrics['val_loss']\n        valid_iou = valid_metrics['val_iou']\n        valid_losses += [valid_loss]\n        valid_ious += [valid_iou]\n        print('Epoch: [{0}][Validation]\\t' \n              'Val_Loss: {val_loss:.5f}\\t' \n              'Val_IOU: {val_iou:.5f}'.format(epoch, val_loss=valid_loss, val_iou=valid_iou))\n        is_best = best_iou < valid_iou\n        best_iou = max(valid_iou, best_iou)\n        save_checkpoint({\n            'epoch': epoch + 1,\n            'state_dict': res_unet.state_dict(),\n            'best_iou': best_iou,\n            'optimizer': optimizer.state_dict(),\n        }, is_best, fold=fold)\n    fold += 1\n    if early_stop.step(valid_iou):\n        break\n        ",
      "execution_count": null,
      "outputs": []
    },
    {
      "metadata": {
        "_uuid": "717b037874d56b8a051155284c8d127445783c28",
        "trusted": false
      },
      "cell_type": "code",
      "source": "",
      "execution_count": null,
      "outputs": []
    }
  ],
  "metadata": {
    "kernelspec": {
      "display_name": "Python 3",
      "language": "python",
      "name": "python3"
    },
    "language_info": {
      "name": "python",
      "version": "3.6.6",
      "mimetype": "text/x-python",
      "codemirror_mode": {
        "name": "ipython",
        "version": 3
      },
      "pygments_lexer": "ipython3",
      "nbconvert_exporter": "python",
      "file_extension": ".py"
    },
    "toc": {
      "base_numbering": 1,
      "nav_menu": {},
      "number_sections": true,
      "sideBar": true,
      "skip_h1_title": false,
      "title_cell": "Table of Contents",
      "title_sidebar": "Contents",
      "toc_cell": false,
      "toc_position": {},
      "toc_section_display": true,
      "toc_window_display": false
    }
  },
  "nbformat": 4,
  "nbformat_minor": 1
}